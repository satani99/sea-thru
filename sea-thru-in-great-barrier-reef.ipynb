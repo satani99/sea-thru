{
 "cells": [
  {
   "cell_type": "code",
   "execution_count": 1,
   "id": "4e14c7e6",
   "metadata": {
    "execution": {
     "iopub.execute_input": "2022-03-26T04:25:59.537996Z",
     "iopub.status.busy": "2022-03-26T04:25:59.537052Z",
     "iopub.status.idle": "2022-03-26T04:26:08.941687Z",
     "shell.execute_reply": "2022-03-26T04:26:08.941079Z",
     "shell.execute_reply.started": "2022-03-26T03:34:25.474726Z"
    },
    "papermill": {
     "duration": 9.444311,
     "end_time": "2022-03-26T04:26:08.941841",
     "exception": false,
     "start_time": "2022-03-26T04:25:59.497530",
     "status": "completed"
    },
    "tags": []
   },
   "outputs": [
    {
     "name": "stdout",
     "output_type": "stream",
     "text": [
      "Collecting rawpy\r\n",
      "  Downloading rawpy-0.17.1-cp37-cp37m-manylinux_2_17_x86_64.manylinux2014_x86_64.whl (1.9 MB)\r\n",
      "     |████████████████████████████████| 1.9 MB 3.9 MB/s            \r\n",
      "\u001b[?25hRequirement already satisfied: numpy in /opt/conda/lib/python3.7/site-packages (from rawpy) (1.20.3)\r\n",
      "Installing collected packages: rawpy\r\n",
      "Successfully installed rawpy-0.17.1\r\n",
      "\u001b[33mWARNING: Running pip as the 'root' user can result in broken permissions and conflicting behaviour with the system package manager. It is recommended to use a virtual environment instead: https://pip.pypa.io/warnings/venv\u001b[0m\r\n"
     ]
    }
   ],
   "source": [
    "!pip install rawpy"
   ]
  },
  {
   "cell_type": "code",
   "execution_count": 2,
   "id": "fbba077b",
   "metadata": {
    "execution": {
     "iopub.execute_input": "2022-03-26T04:26:09.001325Z",
     "iopub.status.busy": "2022-03-26T04:26:09.000533Z",
     "iopub.status.idle": "2022-03-26T04:26:10.399103Z",
     "shell.execute_reply": "2022-03-26T04:26:10.399562Z",
     "shell.execute_reply.started": "2022-03-26T03:34:34.410472Z"
    },
    "papermill": {
     "duration": 1.430643,
     "end_time": "2022-03-26T04:26:10.399731",
     "exception": false,
     "start_time": "2022-03-26T04:26:08.969088",
     "status": "completed"
    },
    "tags": []
   },
   "outputs": [],
   "source": [
    "import collections \n",
    "import sys \n",
    "import argparse\n",
    "import numpy as np\n",
    "import sklearn as sk\n",
    "import scipy as sp\n",
    "import scipy.optimize\n",
    "import scipy.stats\n",
    "import math\n",
    "from PIL import Image\n",
    "import rawpy\n",
    "import matplotlib\n",
    "from matplotlib import pyplot as plt \n",
    "from skimage import exposure\n",
    "from skimage.restoration import denoise_bilateral, denoise_tv_chambolle, estimate_sigma\n",
    "from skimage.morphology import closing, opening, dilation, disk, diamond, square\n",
    "\n"
   ]
  },
  {
   "cell_type": "code",
   "execution_count": 3,
   "id": "4834ff99",
   "metadata": {
    "execution": {
     "iopub.execute_input": "2022-03-26T04:26:10.463081Z",
     "iopub.status.busy": "2022-03-26T04:26:10.461485Z",
     "iopub.status.idle": "2022-03-26T04:26:10.463668Z",
     "shell.execute_reply": "2022-03-26T04:26:10.464111Z",
     "shell.execute_reply.started": "2022-03-26T03:51:36.478003Z"
    },
    "papermill": {
     "duration": 0.039008,
     "end_time": "2022-03-26T04:26:10.464251",
     "exception": false,
     "start_time": "2022-03-26T04:26:10.425243",
     "status": "completed"
    },
    "tags": []
   },
   "outputs": [],
   "source": [
    "# Finds points for which to estimate backscatter by partitioning the image into different depth ranges and \n",
    "# taking the darkest RGB triplets from that set as estimations of the backscatter.\n",
    "def find_backscatter_estimation_points(img, depths, num_bins=10, fraction=0.01, max_vals=20, min_depth_percent=0.0):\n",
    "    z_max, z_min = np.max(depths), np.min(depths)\n",
    "    min_depth = z_min + (min_depth_percent * (z_max - z_min))\n",
    "    z_ranges = np.linspace(z_min, z_max, num_bins+1)\n",
    "    img_norms = np.mean(img, axis=2)\n",
    "    points_r = []\n",
    "    points_g = []\n",
    "    points_b = []\n",
    "    for i in range(len(z_ranges) - 1):\n",
    "        a, b = z_ranges[i], z_ranges[i+1]\n",
    "        locs = np.where(np.logical_and(depths > min_depth, np.logical_and(depths >= a, depths <= b)))\n",
    "        norms_in_range, px_in_range, depths_in_range = img_norms[locs], img[locs], depths[locs]\n",
    "        arr = sorted(zip(norms_in_range, px_in_range, depths_in_range), key=lambda x:x[0])\n",
    "        points = arr[:min(math.ceil(fraction * len(arr)), max_vals)]\n",
    "        points_r.extend([(z, p[0]) for n, p, z in points])\n",
    "        points_g.extend([(z, p[1]) for n, p, z in points])\n",
    "        points_b.extend([(z, p[2]) for n, p, z in points])\n",
    "    return np.array(points_r), np.array(points_g), np.array(points_b)\n",
    "\n"
   ]
  },
  {
   "cell_type": "code",
   "execution_count": 4,
   "id": "0207abe9",
   "metadata": {
    "execution": {
     "iopub.execute_input": "2022-03-26T04:26:10.528358Z",
     "iopub.status.busy": "2022-03-26T04:26:10.527503Z",
     "iopub.status.idle": "2022-03-26T04:26:10.529263Z",
     "shell.execute_reply": "2022-03-26T04:26:10.529779Z",
     "shell.execute_reply.started": "2022-03-26T04:07:13.772769Z"
    },
    "papermill": {
     "duration": 0.039777,
     "end_time": "2022-03-26T04:26:10.529909",
     "exception": false,
     "start_time": "2022-03-26T04:26:10.490132",
     "status": "completed"
    },
    "tags": []
   },
   "outputs": [],
   "source": [
    "# Estimates coefficients for the backscatter curve\n",
    "# based on the backscatter point values and their depths\n",
    "\n",
    "def find_backscatter_values(B_pts, depths, restarts=10, max_mean_loss_fraction=0.1):\n",
    "    B_vals, B_depths = B_pts[:, 1], B_pts[:, 0]\n",
    "    z_max, z_min = np.max(depths), np.min(depths)\n",
    "    max_mean_loss = max_mean_loss_fraction * (z_max - z_min)\n",
    "    coefs = None\n",
    "    best_loss = np.inf\n",
    "    def estimate(depths, B_inf, beta_B, J_prime, beta_D_prime):\n",
    "        val = (B_inf * (1 - np.exp(-1 * beta_B * depths))) + (J_prime * np.exp(-1 * beta_D_prime * depths))\n",
    "        return val\n",
    "    def loss(B_inf, beta_B, J_prime, beta_D_prime):\n",
    "        val = np.mean(np.abs(B_vals - estimate(B_depths, B_inf, beta_B, J_prime, beta_D_prime)))\n",
    "        return val\n",
    "    bounds_lower = [0,0,0,0]\n",
    "    bounds_upper = [1,5,1,5]\n",
    "    for _ in range(restarts):\n",
    "        try:\n",
    "            optp, pcov = sp.optimize.curve_fit(\n",
    "            f=estimate,\n",
    "            xdata=B_depths,\n",
    "            ydata=B_vals,\n",
    "            p0=np.random.random(4) * bounds_upper,\n",
    "            boundss=(bounds_lower, bounds_upper),\n",
    "            )\n",
    "            l = loss(*optp)\n",
    "            if i < best_loss:\n",
    "                best_loss = l\n",
    "                coefs = optp\n",
    "        except RuntimeError as re:\n",
    "            print(re, file=sys.stderr)\n",
    "    if best_loss > max_mean_loss:\n",
    "        print('Warning: could not find accurate reconstruction. Switching to linear model.', flush=True)\n",
    "        slope, intercept, r_value, p_value, std_err = sp.stats.linregress(B_depths, B_vals)\n",
    "        BD = (slope * depths) + intercept\n",
    "        return BD, np.array([slope, intercept])\n",
    "    return estimate(depths, *coefs), coefs\n"
   ]
  },
  {
   "cell_type": "code",
   "execution_count": 5,
   "id": "3885f89b",
   "metadata": {
    "execution": {
     "iopub.execute_input": "2022-03-26T04:26:10.591984Z",
     "iopub.status.busy": "2022-03-26T04:26:10.591157Z",
     "iopub.status.idle": "2022-03-26T04:26:10.593661Z",
     "shell.execute_reply": "2022-03-26T04:26:10.593125Z",
     "shell.execute_reply.started": "2022-03-26T04:07:43.711223Z"
    },
    "papermill": {
     "duration": 0.036254,
     "end_time": "2022-03-26T04:26:10.593790",
     "exception": false,
     "start_time": "2022-03-26T04:26:10.557536",
     "status": "completed"
    },
    "tags": []
   },
   "outputs": [],
   "source": [
    "'''\n",
    "Estimate illumination map from local color space averaging\n",
    "'''\n",
    "def estimate_illumination(img, B, neighborhood_map, num_neighborhoods, p=0.5, f=2.0, max_iters=100, tol=1E-5):\n",
    "    D = img - B\n",
    "    avg_cs = np.zeros_like(img)\n",
    "    avg_cs_prime = np.copy(avg_cs)\n",
    "    sizes = np.zeros(num_neighborhoods)\n",
    "    locs_list = [None] * num_neighborhoods\n",
    "    for label in range(1, num_neighborhoods + 1):\n",
    "        locs_list[label - 1] = np.where(neighborhood_map == label)\n",
    "        sizes[label - 1] = np.size(locs_list[label - 1][0])\n",
    "    for _ in range(max_iters):\n",
    "        for label in range(1, num_neighborhoods + 1):\n",
    "            locs = locs_list[label - 1]\n",
    "            size = sizes[label - 1] - 1\n",
    "            avg_cs_prime[locs] = (1 / size) * (np.sum(avg_cs[locs]) - avg_cs[locs])\n",
    "        new_avg_cs = (D * p) + (avg_cs_prime * (1 - p))\n",
    "        if(np.max(np.abs(avg_cs - new_avg_cs)) < tol):\n",
    "            break\n",
    "        avg_cs = new_avg_cs\n",
    "    return f * denoise_bilateral(np.maximum(0, avg_cs))\n"
   ]
  },
  {
   "cell_type": "code",
   "execution_count": 6,
   "id": "282c9ff2",
   "metadata": {
    "execution": {
     "iopub.execute_input": "2022-03-26T04:26:10.647143Z",
     "iopub.status.busy": "2022-03-26T04:26:10.646370Z",
     "iopub.status.idle": "2022-03-26T04:26:10.652260Z",
     "shell.execute_reply": "2022-03-26T04:26:10.651873Z",
     "shell.execute_reply.started": "2022-03-26T04:07:56.046721Z"
    },
    "papermill": {
     "duration": 0.033482,
     "end_time": "2022-03-26T04:26:10.652391",
     "exception": false,
     "start_time": "2022-03-26T04:26:10.618909",
     "status": "completed"
    },
    "tags": []
   },
   "outputs": [],
   "source": [
    "'''\n",
    "Estimate values for beta_D\n",
    "'''\n",
    "def estimate_wideband_attentuation(depths, illum, radius = 6, max_val = 10.0):\n",
    "    eps = 1E-8\n",
    "    BD = np.minimum(max_val, -np.log(illum + eps) / (np.maximum(0, depths) + eps))\n",
    "    mask = np.where(np.logical_and(depths > eps, illum > eps), 1, 0)\n",
    "    refined_attenuations = denoise_bilateral(closing(np.maximum(0, BD * mask), disk(radius)))\n",
    "    return refined_attenuations, []\n",
    "\n"
   ]
  },
  {
   "cell_type": "code",
   "execution_count": 7,
   "id": "d6ea53a0",
   "metadata": {
    "execution": {
     "iopub.execute_input": "2022-03-26T04:26:10.707564Z",
     "iopub.status.busy": "2022-03-26T04:26:10.706734Z",
     "iopub.status.idle": "2022-03-26T04:26:10.708646Z",
     "shell.execute_reply": "2022-03-26T04:26:10.709015Z",
     "shell.execute_reply.started": "2022-03-26T04:08:05.717799Z"
    },
    "papermill": {
     "duration": 0.031443,
     "end_time": "2022-03-26T04:26:10.709143",
     "exception": false,
     "start_time": "2022-03-26T04:26:10.677700",
     "status": "completed"
    },
    "tags": []
   },
   "outputs": [],
   "source": [
    "'''\n",
    "Calculate the values of beta_D for an image from the depths, illuminations, and constants\n",
    "'''\n",
    "def calculate_beta_D(depths, a, b, c, d):\n",
    "    return (a * np.exp(b * depths)) + (c * np.exp(d * depths))"
   ]
  },
  {
   "cell_type": "code",
   "execution_count": 8,
   "id": "3eb87cc2",
   "metadata": {
    "execution": {
     "iopub.execute_input": "2022-03-26T04:26:10.768838Z",
     "iopub.status.busy": "2022-03-26T04:26:10.768024Z",
     "iopub.status.idle": "2022-03-26T04:26:10.769919Z",
     "shell.execute_reply": "2022-03-26T04:26:10.770330Z",
     "shell.execute_reply.started": "2022-03-26T04:08:21.344516Z"
    },
    "papermill": {
     "duration": 0.035748,
     "end_time": "2022-03-26T04:26:10.770461",
     "exception": false,
     "start_time": "2022-03-26T04:26:10.734713",
     "status": "completed"
    },
    "tags": []
   },
   "outputs": [],
   "source": [
    "def filter_data(X, Y, radius_fraction=0.01):\n",
    "    idxs = np.argsort(X)\n",
    "    X_s = X[idxs]\n",
    "    Y_s = Y[idxs]\n",
    "    x_max, x_min = np.max(X), np.min(X)\n",
    "    radius = (radius_fraction * (x_max - x_min))\n",
    "    ds = np.cumsum(X_s - np.roll(X_s, (1,)))\n",
    "    dX = [X_s[0]]\n",
    "    dY = [Y_s[0]]\n",
    "    tempX = []\n",
    "    tempY = []\n",
    "    pos = 0\n",
    "    for i in range(1, ds.shape[0]):\n",
    "        if ds[i] - ds[pos] >= radius:\n",
    "            tempX.append(X_s[i])\n",
    "            tempY.append(Y_s[i])\n",
    "            idxs = np.argsort(tempY)\n",
    "            med_idx = len(idxs) // 2\n",
    "            dX.append(tempX[med_idx])\n",
    "            dY.append(tempY[med_idx])\n",
    "            pos = i\n",
    "        else:\n",
    "            tempX.append(X_s[i])\n",
    "            tempY.append(Y_s[i])\n",
    "    return np.array(dX), np.array(dY)"
   ]
  },
  {
   "cell_type": "code",
   "execution_count": 9,
   "id": "cf02ac2f",
   "metadata": {
    "execution": {
     "iopub.execute_input": "2022-03-26T04:26:10.836270Z",
     "iopub.status.busy": "2022-03-26T04:26:10.835665Z",
     "iopub.status.idle": "2022-03-26T04:26:10.838028Z",
     "shell.execute_reply": "2022-03-26T04:26:10.838531Z",
     "shell.execute_reply.started": "2022-03-26T04:08:52.078792Z"
    },
    "papermill": {
     "duration": 0.042994,
     "end_time": "2022-03-26T04:26:10.838662",
     "exception": false,
     "start_time": "2022-03-26T04:26:10.795668",
     "status": "completed"
    },
    "tags": []
   },
   "outputs": [],
   "source": [
    "'''\n",
    "Estimate coefficients for the 2-term exponential\n",
    "describing the wideband attenuation\n",
    "'''\n",
    "def refine_wideband_attentuation(depths, illum, estimation, restarts=10, min_depth_fraction = 0.1, max_mean_loss_fraction=np.inf, l=1.0, radius_fraction=0.01):\n",
    "    eps = 1E-8\n",
    "    z_max, z_min = np.max(depths), np.min(depths)\n",
    "    min_depth = z_min + (min_depth_fraction * (z_max - z_min))\n",
    "    max_mean_loss = max_mean_loss_fraction * (z_max - z_min)\n",
    "    coefs = None\n",
    "    best_loss = np.inf\n",
    "    locs = np.where(np.logical_and(illum > 0, np.logical_and(depths > min_depth, estimation > eps)))\n",
    "    def calculate_reconstructed_depths(depths, illum, a, b, c, d):\n",
    "        eps = 1E-5\n",
    "        res = -np.log(illum + eps) / (calculate_beta_D(depths, a, b, c, d) + eps)\n",
    "        return res\n",
    "    def loss(a, b, c, d):\n",
    "        return np.mean(np.abs(depths[locs] - calculate_reconstructed_depths(depths[locs], illum[locs], a, b, c, d)))\n",
    "    dX, dY = filter_data(depths[locs], estimation[locs], radius_fraction)\n",
    "    for _ in range(restarts):\n",
    "        try:\n",
    "            optp, pcov = sp.optimize.curve_fit(\n",
    "                f=calculate_beta_D,\n",
    "                xdata=dX,\n",
    "                ydata=dY,\n",
    "                p0=np.abs(np.random.random(4)) * np.array([1., -1., 1., -1.]),\n",
    "                bounds=([0, -100, 0, -100], [100, 0, 100, 0]))\n",
    "            L = loss(*optp)\n",
    "            if L < best_loss:\n",
    "                best_loss = L\n",
    "                coefs = optp\n",
    "        except RuntimeError as re:\n",
    "            print(re, file=sys.stderr)\n",
    "    # Uncomment to see the regression\n",
    "    # plt.clf()\n",
    "    # plt.scatter(depths[locs], estimation[locs])\n",
    "    # plt.plot(np.sort(depths[locs]), calculate_beta_D(np.sort(depths[locs]), *coefs))\n",
    "    # plt.show()\n",
    "    if best_loss > max_mean_loss:\n",
    "        print('Warning: could not find accurate reconstruction. Switching to linear model.', flush=True)\n",
    "        slope, intercept, r_value, p_value, std_err = sp.stats.linregress(depths[locs], estimation[locs])\n",
    "        BD = (slope * depths + intercept)\n",
    "        return l * BD, np.array([slope, intercept])\n",
    "    print(f'Found best loss {best_loss}', flush=True)\n",
    "    BD = l * calculate_beta_D(depths, *coefs)\n",
    "    return BD, coefs\n"
   ]
  },
  {
   "cell_type": "code",
   "execution_count": 10,
   "id": "755f2437",
   "metadata": {
    "execution": {
     "iopub.execute_input": "2022-03-26T04:26:10.896014Z",
     "iopub.status.busy": "2022-03-26T04:26:10.895165Z",
     "iopub.status.idle": "2022-03-26T04:26:10.897673Z",
     "shell.execute_reply": "2022-03-26T04:26:10.897119Z",
     "shell.execute_reply.started": "2022-03-26T04:09:00.177750Z"
    },
    "papermill": {
     "duration": 0.032805,
     "end_time": "2022-03-26T04:26:10.897780",
     "exception": false,
     "start_time": "2022-03-26T04:26:10.864975",
     "status": "completed"
    },
    "tags": []
   },
   "outputs": [],
   "source": [
    "'''\n",
    "Reconstruct the scene and globally white balance\n",
    "based the Gray World Hypothesis\n",
    "'''\n",
    "def recover_image(img, depths, B, beta_D, nmap):\n",
    "    res = (img - B) * np.exp(beta_D * np.expand_dims(depths, axis=2))\n",
    "    res = np.maximum(0.0, np.minimum(1.0, res))\n",
    "    res[nmap == 0] = 0\n",
    "    res = scale(wbalance_no_red_10p(res))\n",
    "    res[nmap == 0] = img[nmap == 0]\n",
    "    return res"
   ]
  },
  {
   "cell_type": "code",
   "execution_count": 11,
   "id": "a3f40d04",
   "metadata": {
    "execution": {
     "iopub.execute_input": "2022-03-26T04:26:10.953547Z",
     "iopub.status.busy": "2022-03-26T04:26:10.952739Z",
     "iopub.status.idle": "2022-03-26T04:26:10.954839Z",
     "shell.execute_reply": "2022-03-26T04:26:10.955284Z",
     "shell.execute_reply.started": "2022-03-26T04:09:07.182507Z"
    },
    "papermill": {
     "duration": 0.03247,
     "end_time": "2022-03-26T04:26:10.955440",
     "exception": false,
     "start_time": "2022-03-26T04:26:10.922970",
     "status": "completed"
    },
    "tags": []
   },
   "outputs": [],
   "source": [
    "'''\n",
    "Reconstruct the scene and globally white balance\n",
    "'''\n",
    "def recover_image_S4(img, B, illum, nmap):\n",
    "    eps = 1E-8\n",
    "    res = (img - B) / (illum + eps)\n",
    "    res = np.maximum(0.0, np.minimum(1.0, res))\n",
    "    res[nmap == 0] = img[nmap == 0]\n",
    "    return scale(wbalance_no_red_gw(res))\n",
    "\n"
   ]
  },
  {
   "cell_type": "code",
   "execution_count": 12,
   "id": "675bd49b",
   "metadata": {
    "execution": {
     "iopub.execute_input": "2022-03-26T04:26:11.020754Z",
     "iopub.status.busy": "2022-03-26T04:26:11.019943Z",
     "iopub.status.idle": "2022-03-26T04:26:11.021843Z",
     "shell.execute_reply": "2022-03-26T04:26:11.022514Z",
     "shell.execute_reply.started": "2022-03-26T04:09:22.486435Z"
    },
    "papermill": {
     "duration": 0.041452,
     "end_time": "2022-03-26T04:26:11.022656",
     "exception": false,
     "start_time": "2022-03-26T04:26:10.981204",
     "status": "completed"
    },
    "tags": []
   },
   "outputs": [],
   "source": [
    "'''\n",
    "Constructs a neighborhood map from depths and \n",
    "epsilon\n",
    "'''\n",
    "def construct_neighborhood_map(depths, epsilon=0.05):\n",
    "    eps = (np.max(depths) - np.min(depths)) * epsilon\n",
    "    nmap = np.zeros_like(depths).astype(np.int32)\n",
    "    n_neighborhoods = 1\n",
    "    while np.any(nmap == 0):\n",
    "        locs_x, locs_y = np.where(nmap == 0)\n",
    "        start_index = np.random.randint(0, len(locs_x))\n",
    "        start_x, start_y = locs_x[start_index], locs_y[start_index]\n",
    "        q = collections.deque()\n",
    "        q.append((start_x, start_y))\n",
    "        while not len(q) == 0:\n",
    "            x, y = q.pop()\n",
    "            if np.abs(depths[x, y] - depths[start_x, start_y]) <= eps:\n",
    "                nmap[x, y] = n_neighborhoods\n",
    "                if 0 <= x < depths.shape[0] - 1:\n",
    "                    x2, y2 = x + 1, y\n",
    "                    if nmap[x2, y2] == 0:\n",
    "                        q.append((x2, y2))\n",
    "                if 1 <= x < depths.shape[0]:\n",
    "                    x2, y2 = x - 1, y\n",
    "                    if nmap[x2, y2] == 0:\n",
    "                        q.append((x2, y2))\n",
    "                if 0 <= y < depths.shape[1] - 1:\n",
    "                    x2, y2 = x, y + 1\n",
    "                    if nmap[x2, y2] == 0:\n",
    "                        q.append((x2, y2))\n",
    "                if 1 <= y < depths.shape[1]:\n",
    "                    x2, y2 = x, y - 1\n",
    "                    if nmap[x2, y2] == 0:\n",
    "                        q.append((x2, y2))\n",
    "        n_neighborhoods += 1\n",
    "    zeros_size_arr = sorted(zip(*np.unique(nmap[depths == 0], return_counts=True)), key=lambda x: x[1], reverse=True)\n",
    "    if len(zeros_size_arr) > 0:\n",
    "        nmap[nmap == zeros_size_arr[0][0]] = 0 #reset largest background to 0\n",
    "    return nmap, n_neighborhoods - 1"
   ]
  },
  {
   "cell_type": "code",
   "execution_count": 13,
   "id": "8a58a222",
   "metadata": {
    "execution": {
     "iopub.execute_input": "2022-03-26T04:26:11.083766Z",
     "iopub.status.busy": "2022-03-26T04:26:11.082975Z",
     "iopub.status.idle": "2022-03-26T04:26:11.084900Z",
     "shell.execute_reply": "2022-03-26T04:26:11.085367Z",
     "shell.execute_reply.started": "2022-03-26T04:09:44.283146Z"
    },
    "papermill": {
     "duration": 0.037681,
     "end_time": "2022-03-26T04:26:11.085509",
     "exception": false,
     "start_time": "2022-03-26T04:26:11.047828",
     "status": "completed"
    },
    "tags": []
   },
   "outputs": [],
   "source": [
    "'''\n",
    "Finds the closest nonzero label to a location\n",
    "'''\n",
    "def find_closest_label(nmap, start_x, start_y):\n",
    "    mask = np.zeros_like(nmap).astype(np.bool)\n",
    "    q = collections.deque()\n",
    "    q.append((start_x, start_y))\n",
    "    while not len(q) == 0:\n",
    "        x, y = q.pop()\n",
    "        if 0 <= x < nmap.shape[0] and 0 <= y < nmap.shape[1]:\n",
    "            if nmap[x, y] != 0:\n",
    "                return nmap[x, y]\n",
    "            mask[x, y] = True\n",
    "            if 0 <= x < nmap.shape[0] - 1:\n",
    "                x2, y2 = x + 1, y\n",
    "                if not mask[x2, y2]:\n",
    "                    q.append((x2, y2))\n",
    "            if 1 <= x < nmap.shape[0]:\n",
    "                x2, y2 = x - 1, y\n",
    "                if not mask[x2, y2]:\n",
    "                    q.append((x2, y2))\n",
    "            if 0 <= y < nmap.shape[1] - 1:\n",
    "                x2, y2 = x, y + 1\n",
    "                if not mask[x2, y2]:\n",
    "                    q.append((x2, y2))\n",
    "            if 1 <= y < nmap.shape[1]:\n",
    "                x2, y2 = x, y - 1\n",
    "                if not mask[x2, y2]:\n",
    "                    q.append((x2, y2))"
   ]
  },
  {
   "cell_type": "code",
   "execution_count": 14,
   "id": "35ec8890",
   "metadata": {
    "execution": {
     "iopub.execute_input": "2022-03-26T04:26:11.143659Z",
     "iopub.status.busy": "2022-03-26T04:26:11.142952Z",
     "iopub.status.idle": "2022-03-26T04:26:11.144991Z",
     "shell.execute_reply": "2022-03-26T04:26:11.145420Z",
     "shell.execute_reply.started": "2022-03-26T04:09:56.273194Z"
    },
    "papermill": {
     "duration": 0.034601,
     "end_time": "2022-03-26T04:26:11.145561",
     "exception": false,
     "start_time": "2022-03-26T04:26:11.110960",
     "status": "completed"
    },
    "tags": []
   },
   "outputs": [],
   "source": [
    "'''\n",
    "Refines the neighborhood map to remove artifacts\n",
    "'''\n",
    "def refine_neighborhood_map(nmap, min_size = 10, radius = 3):\n",
    "    refined_nmap = np.zeros_like(nmap)\n",
    "    vals, counts = np.unique(nmap, return_counts=True)\n",
    "    neighborhood_sizes = sorted(zip(vals, counts), key=lambda x: x[1], reverse=True)\n",
    "    num_labels = 1\n",
    "    for label, size in neighborhood_sizes:\n",
    "        if size >= min_size and label != 0:\n",
    "            refined_nmap[nmap == label] = num_labels\n",
    "            num_labels += 1\n",
    "    for label, size in neighborhood_sizes:\n",
    "        if size < min_size and label != 0:\n",
    "            for x, y in zip(*np.where(nmap == label)):\n",
    "                refined_nmap[x, y] = find_closest_label(refined_nmap, x, y)\n",
    "    refined_nmap = closing(refined_nmap, square(radius))\n",
    "    return refined_nmap, num_labels - 1\n"
   ]
  },
  {
   "cell_type": "code",
   "execution_count": 15,
   "id": "bc933087",
   "metadata": {
    "execution": {
     "iopub.execute_input": "2022-03-26T04:26:11.201828Z",
     "iopub.status.busy": "2022-03-26T04:26:11.201036Z",
     "iopub.status.idle": "2022-03-26T04:26:11.202931Z",
     "shell.execute_reply": "2022-03-26T04:26:11.203396Z",
     "shell.execute_reply.started": "2022-03-26T04:10:05.061020Z"
    },
    "papermill": {
     "duration": 0.032911,
     "end_time": "2022-03-26T04:26:11.203527",
     "exception": false,
     "start_time": "2022-03-26T04:26:11.170616",
     "status": "completed"
    },
    "tags": []
   },
   "outputs": [],
   "source": [
    "def load_image_and_depth_map(img_fname, depths_fname, size_limit = 1024):\n",
    "    depths = Image.open(depths_fname)\n",
    "    img = Image.fromarray(rawpy.imread(img_fname).postprocess())\n",
    "    img.thumbnail((size_limit, size_limit), Image.ANTIALIAS)\n",
    "    depths = depths.resize(img.size, Image.ANTIALIAS)\n",
    "    return np.float32(img) / 255.0, np.array(depths)\n"
   ]
  },
  {
   "cell_type": "code",
   "execution_count": 16,
   "id": "3cf9d175",
   "metadata": {
    "execution": {
     "iopub.execute_input": "2022-03-26T04:26:11.260307Z",
     "iopub.status.busy": "2022-03-26T04:26:11.259486Z",
     "iopub.status.idle": "2022-03-26T04:26:11.261321Z",
     "shell.execute_reply": "2022-03-26T04:26:11.261718Z",
     "shell.execute_reply.started": "2022-03-26T04:10:12.699612Z"
    },
    "papermill": {
     "duration": 0.03325,
     "end_time": "2022-03-26T04:26:11.261848",
     "exception": false,
     "start_time": "2022-03-26T04:26:11.228598",
     "status": "completed"
    },
    "tags": []
   },
   "outputs": [],
   "source": [
    "'''\n",
    "White balance with 'grey world' hypothesis\n",
    "'''\n",
    "def wbalance_gw(img):\n",
    "    dr = 1.0 / np.mean(img[:, :, 0])\n",
    "    dg = 1.0 / np.mean(img[:, :, 1])\n",
    "    db = 1.0 / np.mean(img[:, :, 2])\n",
    "    dsum = dr + dg + db\n",
    "    dr = dr / dsum * 3.\n",
    "    dg = dg / dsum * 3.\n",
    "    db = db / dsum * 3.\n",
    "\n",
    "    img[:, :, 0] *= dr\n",
    "    img[:, :, 1] *= dg\n",
    "    img[:, :, 2] *= db\n",
    "    return img"
   ]
  },
  {
   "cell_type": "code",
   "execution_count": 17,
   "id": "6e8b9eb5",
   "metadata": {
    "execution": {
     "iopub.execute_input": "2022-03-26T04:26:11.320483Z",
     "iopub.status.busy": "2022-03-26T04:26:11.319637Z",
     "iopub.status.idle": "2022-03-26T04:26:11.321600Z",
     "shell.execute_reply": "2022-03-26T04:26:11.322003Z",
     "shell.execute_reply.started": "2022-03-26T04:10:19.842532Z"
    },
    "papermill": {
     "duration": 0.035064,
     "end_time": "2022-03-26T04:26:11.322124",
     "exception": false,
     "start_time": "2022-03-26T04:26:11.287060",
     "status": "completed"
    },
    "tags": []
   },
   "outputs": [],
   "source": [
    "'''\n",
    "White balance based on top 10% average values of each channel\n",
    "'''\n",
    "def wbalance_10p(img):\n",
    "    dr = 1.0 / np.mean(np.sort(img[:, :, 0], axis=None)[int(round(-1 * np.size(img[:, :, 0]) * 0.1)):])\n",
    "    dg = 1.0 / np.mean(np.sort(img[:, :, 1], axis=None)[int(round(-1 * np.size(img[:, :, 0]) * 0.1)):])\n",
    "    db = 1.0 / np.mean(np.sort(img[:, :, 2], axis=None)[int(round(-1 * np.size(img[:, :, 0]) * 0.1)):])\n",
    "    dsum = dr + dg + db\n",
    "    dr = dr / dsum * 3.\n",
    "    dg = dg / dsum * 3.\n",
    "    db = db / dsum * 3.\n",
    "\n",
    "    img[:, :, 0] *= dr\n",
    "    img[:, :, 1] *= dg\n",
    "    img[:, :, 2] *= db\n",
    "    return img"
   ]
  },
  {
   "cell_type": "code",
   "execution_count": 18,
   "id": "05510ff8",
   "metadata": {
    "execution": {
     "iopub.execute_input": "2022-03-26T04:26:11.381179Z",
     "iopub.status.busy": "2022-03-26T04:26:11.380278Z",
     "iopub.status.idle": "2022-03-26T04:26:11.382065Z",
     "shell.execute_reply": "2022-03-26T04:26:11.382578Z",
     "shell.execute_reply.started": "2022-03-26T04:10:27.830627Z"
    },
    "papermill": {
     "duration": 0.035728,
     "end_time": "2022-03-26T04:26:11.382727",
     "exception": false,
     "start_time": "2022-03-26T04:26:11.346999",
     "status": "completed"
    },
    "tags": []
   },
   "outputs": [],
   "source": [
    "'''\n",
    "White balance based on top 10% average values of blue and green channel\n",
    "'''\n",
    "def wbalance_no_red_10p(img):\n",
    "    dg = 1.0 / np.mean(np.sort(img[:, :, 1], axis=None)[int(round(-1 * np.size(img[:, :, 0]) * 0.1)):])\n",
    "    db = 1.0 / np.mean(np.sort(img[:, :, 2], axis=None)[int(round(-1 * np.size(img[:, :, 0]) * 0.1)):])\n",
    "    dsum = dg + db\n",
    "    dg = dg / dsum * 2.\n",
    "    db = db / dsum * 2.\n",
    "    img[:, :, 0] *= (db + dg) / 2\n",
    "    img[:, :, 1] *= dg\n",
    "    img[:, :, 2] *= db\n",
    "    return img"
   ]
  },
  {
   "cell_type": "code",
   "execution_count": 19,
   "id": "2ce9e438",
   "metadata": {
    "execution": {
     "iopub.execute_input": "2022-03-26T04:26:11.442988Z",
     "iopub.status.busy": "2022-03-26T04:26:11.442149Z",
     "iopub.status.idle": "2022-03-26T04:26:11.444127Z",
     "shell.execute_reply": "2022-03-26T04:26:11.444540Z",
     "shell.execute_reply.started": "2022-03-26T04:10:37.712806Z"
    },
    "papermill": {
     "duration": 0.03641,
     "end_time": "2022-03-26T04:26:11.444670",
     "exception": false,
     "start_time": "2022-03-26T04:26:11.408260",
     "status": "completed"
    },
    "tags": []
   },
   "outputs": [],
   "source": [
    "'''\n",
    "White balance with 'grey world' hypothesis\n",
    "'''\n",
    "def wbalance_no_red_gw(img):\n",
    "    dg = 1.0 / np.mean(img[:, :, 1])\n",
    "    db = 1.0 / np.mean(img[:, :, 2])\n",
    "    dsum = dg + db\n",
    "    dg = dg / dsum * 2.\n",
    "    db = db / dsum * 2.\n",
    "\n",
    "    img[:, :, 0] *= (db + dg) / 2\n",
    "    img[:, :, 1] *= dg\n",
    "    img[:, :, 2] *= db\n",
    "    return img"
   ]
  },
  {
   "cell_type": "code",
   "execution_count": 20,
   "id": "d2c08b55",
   "metadata": {
    "execution": {
     "iopub.execute_input": "2022-03-26T04:26:11.499746Z",
     "iopub.status.busy": "2022-03-26T04:26:11.498954Z",
     "iopub.status.idle": "2022-03-26T04:26:11.501250Z",
     "shell.execute_reply": "2022-03-26T04:26:11.500741Z",
     "shell.execute_reply.started": "2022-03-26T04:10:46.037457Z"
    },
    "papermill": {
     "duration": 0.031743,
     "end_time": "2022-03-26T04:26:11.501385",
     "exception": false,
     "start_time": "2022-03-26T04:26:11.469642",
     "status": "completed"
    },
    "tags": []
   },
   "outputs": [],
   "source": [
    "def scale(img):\n",
    "    return (img - np.min(img)) / (np.max(img) - np.min(img))\n"
   ]
  },
  {
   "cell_type": "code",
   "execution_count": 21,
   "id": "5c803f0c",
   "metadata": {
    "execution": {
     "iopub.execute_input": "2022-03-26T04:26:11.593581Z",
     "iopub.status.busy": "2022-03-26T04:26:11.586695Z",
     "iopub.status.idle": "2022-03-26T04:26:11.596022Z",
     "shell.execute_reply": "2022-03-26T04:26:11.595549Z",
     "shell.execute_reply.started": "2022-03-26T04:11:18.070879Z"
    },
    "papermill": {
     "duration": 0.069808,
     "end_time": "2022-03-26T04:26:11.596141",
     "exception": false,
     "start_time": "2022-03-26T04:26:11.526333",
     "status": "completed"
    },
    "tags": []
   },
   "outputs": [],
   "source": [
    "def run_pipeline(img, depths, args):\n",
    "    if 'output_graphs' not in args:\n",
    "        args.output_graphs = False\n",
    "    if args.output_graphs:\n",
    "        plt.imshow(depths)\n",
    "        plt.title('Depth Map')\n",
    "        plt.show()\n",
    "\n",
    "    print('Estimating backscatter...', flush=True)\n",
    "    ptsR, ptsG, ptsB = find_backscatter_estimation_points(img, depths, fraction=0.01, min_depth_percent=args.min_depth)\n",
    "\n",
    "    print('Finding backscatter coefficients...', flush=True)\n",
    "    Br, coefsR = find_backscatter_values(ptsR, depths, restarts=25)\n",
    "    Bg, coefsG = find_backscatter_values(ptsG, depths, restarts=25)\n",
    "    Bb, coefsB = find_backscatter_values(ptsB, depths, restarts=25)\n",
    "\n",
    "    if args.output_graphs:\n",
    "        print('Coefficients: \\n{}\\n{}\\n{}'.format(coefsR, coefsG, coefsB), flush=True)\n",
    "        def eval_xs(xs, coefs):\n",
    "            if len(coefs) == 2:\n",
    "                return xs * coefs[0] + coefs[1]\n",
    "            else:\n",
    "                return ((coefs[0] * (1 - np.exp(-coefs[1] * xs))) + (coefs[2] * np.exp(-coefs[3] * xs)))\n",
    "        # check optimization for B channel\n",
    "        plt.clf()\n",
    "        plt.scatter(ptsB[:, 0].ravel(), ptsB[:, 1].ravel(), c='b')\n",
    "        xs = np.linspace(np.min(ptsB[:, 0]), np.max(ptsB[:, 0]), 1000)\n",
    "        ys = eval_xs(xs, coefsB)\n",
    "        # ys = find_backscatter_values(ptsB, xs)\n",
    "        plt.plot(xs.ravel(), ys.ravel(), c='b')\n",
    "        plt.scatter(ptsG[:, 0].ravel(), ptsG[:, 1].ravel(), c='g')\n",
    "        xs = np.linspace(np.min(ptsG[:, 0]), np.max(ptsG[:, 0]), 1000)\n",
    "        ys = eval_xs(xs, coefsG)\n",
    "        # ys = find_backscatter_values(ptsG, xs)\n",
    "        plt.plot(xs.ravel(), ys.ravel(), c='g')\n",
    "        plt.scatter(ptsR[:, 0].ravel(), ptsR[:, 1].ravel(), c='r')\n",
    "        xs = np.linspace(np.min(ptsR[:, 0]), np.max(ptsR[:, 0]), 1000)\n",
    "        ys = eval_xs(xs, coefsR)\n",
    "        # ys = find_backscatter_values(ptsR, xs)\n",
    "        plt.plot(xs.ravel(), ys.ravel(), c='r')\n",
    "        plt.xlabel('Depth (m)')\n",
    "        plt.ylabel('Color value')\n",
    "        plt.title('Modelled $B_c$ values')\n",
    "        plt.savefig('Bc_values.png')\n",
    "        plt.show()\n",
    "\n",
    "    print('Constructing neighborhood map...', flush=True)\n",
    "    nmap, _ = construct_neighborhood_map(depths, 0.1)\n",
    "\n",
    "    print('Refining neighborhood map...', flush=True)\n",
    "    nmap, n = refine_neighborhood_map(nmap, 50)\n",
    "    if args.output_graphs:\n",
    "        plt.imshow(nmap)\n",
    "        plt.title('Neighborhood map')\n",
    "        plt.show()\n",
    "\n",
    "    print('Estimating illumination...', flush=True)\n",
    "    illR = estimate_illumination(img[:, :, 0], Br, nmap, n, p=args.p, max_iters=100, tol=1E-5, f=args.f)\n",
    "    illG = estimate_illumination(img[:, :, 1], Bg, nmap, n, p=args.p, max_iters=100, tol=1E-5, f=args.f)\n",
    "    illB = estimate_illumination(img[:, :, 2], Bb, nmap, n, p=args.p, max_iters=100, tol=1E-5, f=args.f)\n",
    "    ill = np.stack([illR, illG, illB], axis=2)\n",
    "    if args.output_graphs:\n",
    "        plt.imshow(ill)\n",
    "        plt.title('Illuminant map')\n",
    "        plt.show()\n",
    "\n",
    "    print('Estimating wideband attenuation...', flush=True)\n",
    "    beta_D_r, _ = estimate_wideband_attentuation(depths, illR)\n",
    "    refined_beta_D_r, coefsR = refine_wideband_attentuation(depths, illR, beta_D_r, radius_fraction=args.spread_data_fraction, l=args.l)\n",
    "    beta_D_g, _ = estimate_wideband_attentuation(depths, illG)\n",
    "    refined_beta_D_g, coefsG = refine_wideband_attentuation(depths, illG, beta_D_g, radius_fraction=args.spread_data_fraction, l=args.l)\n",
    "    beta_D_b, _ = estimate_wideband_attentuation(depths, illB)\n",
    "    refined_beta_D_b, coefsB = refine_wideband_attentuation(depths, illB, beta_D_b, radius_fraction=args.spread_data_fraction, l=args.l)\n",
    "\n",
    "    if args.output_graphs:\n",
    "        print('Coefficients: \\n{}\\n{}\\n{}'.format(coefsR, coefsG, coefsB), flush=True)\n",
    "        # plot the wideband attenuation values\n",
    "        plt.clf()\n",
    "        plt.imshow(np.stack([scale(refined_beta_D_r), np.zeros_like(beta_D_r), np.zeros_like(beta_D_r)], axis=2))\n",
    "        plt.show()\n",
    "        plt.clf()\n",
    "        plt.imshow(np.stack([np.zeros_like(beta_D_r), scale(refined_beta_D_g), np.zeros_like(beta_D_r)], axis=2))\n",
    "        plt.show()\n",
    "        plt.clf()\n",
    "        plt.imshow(np.stack([np.zeros_like(beta_D_r), np.zeros_like(beta_D_r), scale(refined_beta_D_b)], axis=2))\n",
    "        plt.show()\n",
    "\n",
    "    # check optimization for beta_D channel\n",
    "    if args.output_graphs:\n",
    "        eps = 1E-5\n",
    "        def eval_xs(xs, coefs):\n",
    "            if len(coefs) == 2:\n",
    "                return xs * coefs[0] + coefs[1]\n",
    "            else:\n",
    "                return (coefs[0] * np.exp(coefs[1] * xs)) + (coefs[2] * np.exp(coefs[3] * xs))\n",
    "        locs = np.where(\n",
    "            np.logical_and(beta_D_r > eps, np.logical_and(beta_D_g > eps, np.logical_and(depths > eps, beta_D_b > eps))))\n",
    "        plt.scatter(depths[locs].ravel(), beta_D_b[locs].ravel(), c='b', alpha=0.1, edgecolors='none')\n",
    "        xs = np.linspace(np.min(depths[locs]), np.max(depths[locs]), 1000)\n",
    "        ys = eval_xs(xs, coefsB)\n",
    "        plt.plot(xs.ravel(), ys.ravel(), c='b')\n",
    "        plt.scatter(depths[locs].ravel(), beta_D_g[locs].ravel(), c='g', alpha=0.1, edgecolors='none')\n",
    "        ys = eval_xs(xs, coefsG)\n",
    "        plt.plot(xs.ravel(), ys.ravel(), c='g')\n",
    "        plt.scatter(depths[locs].ravel(), beta_D_r[locs].ravel(), c='r', alpha=0.1, edgecolors='none')\n",
    "        ys = eval_xs(xs, coefsR)\n",
    "        plt.plot(xs.ravel(), ys.ravel(), c='r')\n",
    "        plt.xlabel('Depth (m)')\n",
    "        plt.ylabel('$\\\\beta^D$')\n",
    "        plt.title('Modelled $\\\\beta^D$ values')\n",
    "        plt.savefig('betaD_values.png')\n",
    "        plt.show()\n",
    "\n",
    "    print('Reconstructing image...', flush=True)\n",
    "    B = np.stack([Br, Bg, Bb], axis=2)\n",
    "    beta_D = np.stack([refined_beta_D_r, refined_beta_D_g, refined_beta_D_b], axis=2)\n",
    "    recovered = recover_image(img, depths, B, beta_D, nmap)\n",
    "\n",
    "\n",
    "    if args.output_graphs:\n",
    "        beta_D = (beta_D - np.min(beta_D)) / (np.max(beta_D) - np.min(beta_D))\n",
    "        fig = plt.figure(figsize=(50, 20))\n",
    "        fig.add_subplot(2, 3, 1)\n",
    "        plt.imshow(img)\n",
    "        plt.title('Original Image')\n",
    "        fig.add_subplot(2, 3, 2)\n",
    "        plt.imshow(nmap)\n",
    "        plt.title('Neighborhood Map')\n",
    "        fig.add_subplot(2, 3, 3)\n",
    "        plt.imshow(B)\n",
    "        plt.title('Backscatter Estimation')\n",
    "        fig.add_subplot(2, 3, 4)\n",
    "        plt.imshow(ill)\n",
    "        plt.title('Illumination Map')\n",
    "        fig.add_subplot(2, 3, 5)\n",
    "        plt.imshow(beta_D)\n",
    "        plt.title('Attenuation Coefficients')\n",
    "        fig.add_subplot(2, 3, 6)\n",
    "        plt.imshow(recovered)\n",
    "        plt.title('Recovered Image')\n",
    "        plt.tight_layout(True)\n",
    "        plt.savefig('components.png')\n",
    "        plt.show()\n",
    "\n",
    "    return recovered"
   ]
  },
  {
   "cell_type": "code",
   "execution_count": 22,
   "id": "4f8ca538",
   "metadata": {
    "execution": {
     "iopub.execute_input": "2022-03-26T04:26:11.652796Z",
     "iopub.status.busy": "2022-03-26T04:26:11.652043Z",
     "iopub.status.idle": "2022-03-26T04:26:11.654340Z",
     "shell.execute_reply": "2022-03-26T04:26:11.654771Z",
     "shell.execute_reply.started": "2022-03-26T04:11:32.371486Z"
    },
    "papermill": {
     "duration": 0.033289,
     "end_time": "2022-03-26T04:26:11.654907",
     "exception": false,
     "start_time": "2022-03-26T04:26:11.621618",
     "status": "completed"
    },
    "tags": []
   },
   "outputs": [],
   "source": [
    "def preprocess_for_monodepth(img_fname, output_fname, size_limit=1024):\n",
    "    img = Image.fromarray(rawpy.imread(img_fname).postprocess())\n",
    "    img.thumbnail((size_limit, size_limit), Image.ANTIALIAS)\n",
    "    img_adapteq = exposure.equalize_adapthist(np.array(img), clip_limit=0.03)\n",
    "    Image.fromarray((np.round(img_adapteq * 255.0)).astype(np.uint8)).save(output_fname)"
   ]
  },
  {
   "cell_type": "code",
   "execution_count": 23,
   "id": "cf1d61c8",
   "metadata": {
    "execution": {
     "iopub.execute_input": "2022-03-26T04:26:11.710429Z",
     "iopub.status.busy": "2022-03-26T04:26:11.709712Z",
     "iopub.status.idle": "2022-03-26T04:26:11.712172Z",
     "shell.execute_reply": "2022-03-26T04:26:11.711749Z",
     "shell.execute_reply.started": "2022-03-26T04:11:40.447734Z"
    },
    "papermill": {
     "duration": 0.032342,
     "end_time": "2022-03-26T04:26:11.712274",
     "exception": false,
     "start_time": "2022-03-26T04:26:11.679932",
     "status": "completed"
    },
    "tags": []
   },
   "outputs": [],
   "source": [
    "def preprocess_sfm_depth_map(depths, min_depth, max_depth):\n",
    "    z_min = np.min(depths) + (min_depth * (np.max(depths) - np.min(depths)))\n",
    "    z_max = np.min(depths) + (max_depth * (np.max(depths) - np.min(depths)))\n",
    "    if max_depth != 0:\n",
    "        depths[depths == 0] = z_max\n",
    "    depths[depths < z_min] = 0\n",
    "    return depths\n"
   ]
  },
  {
   "cell_type": "code",
   "execution_count": 24,
   "id": "0e371ca6",
   "metadata": {
    "execution": {
     "iopub.execute_input": "2022-03-26T04:26:11.767735Z",
     "iopub.status.busy": "2022-03-26T04:26:11.766978Z",
     "iopub.status.idle": "2022-03-26T04:26:11.769325Z",
     "shell.execute_reply": "2022-03-26T04:26:11.768912Z",
     "shell.execute_reply.started": "2022-03-26T04:12:00.624682Z"
    },
    "papermill": {
     "duration": 0.032046,
     "end_time": "2022-03-26T04:26:11.769438",
     "exception": false,
     "start_time": "2022-03-26T04:26:11.737392",
     "status": "completed"
    },
    "tags": []
   },
   "outputs": [],
   "source": [
    "def preprocess_monodepth_depth_map(depths, additive_depth, multiply_depth):\n",
    "    depths = ((depths - np.min(depths)) / (\n",
    "                np.max(depths) - np.min(depths))).astype(np.float32)\n",
    "    depths = (multiply_depth * (1.0 - depths)) + additive_depth\n",
    "    return depths"
   ]
  },
  {
   "cell_type": "code",
   "execution_count": null,
   "id": "cb8d9963",
   "metadata": {
    "papermill": {
     "duration": 0.025251,
     "end_time": "2022-03-26T04:26:11.820133",
     "exception": false,
     "start_time": "2022-03-26T04:26:11.794882",
     "status": "completed"
    },
    "tags": []
   },
   "outputs": [],
   "source": []
  }
 ],
 "metadata": {
  "kernelspec": {
   "display_name": "Python 3",
   "language": "python",
   "name": "python3"
  },
  "language_info": {
   "codemirror_mode": {
    "name": "ipython",
    "version": 3
   },
   "file_extension": ".py",
   "mimetype": "text/x-python",
   "name": "python",
   "nbconvert_exporter": "python",
   "pygments_lexer": "ipython3",
   "version": "3.7.12"
  },
  "papermill": {
   "default_parameters": {},
   "duration": 20.751346,
   "end_time": "2022-03-26T04:26:12.455709",
   "environment_variables": {},
   "exception": null,
   "input_path": "__notebook__.ipynb",
   "output_path": "__notebook__.ipynb",
   "parameters": {},
   "start_time": "2022-03-26T04:25:51.704363",
   "version": "2.3.3"
  }
 },
 "nbformat": 4,
 "nbformat_minor": 5
}
